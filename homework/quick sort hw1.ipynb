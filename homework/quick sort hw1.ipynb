{
 "cells": [
  {
   "cell_type": "code",
   "execution_count": 1,
   "metadata": {},
   "outputs": [
    {
     "name": "stdout",
     "output_type": "stream",
     "text": [
      "[1, 3, 5, 7, 9, 2, 4, 6, 8, 10]\n",
      "[1, 2, 3, 4, 5, 6, 7, 8, 9, 10]\n"
     ]
    }
   ],
   "source": [
    "list = [1,3,5,7,9,2,4,6,8,10]   #設定list為括號內數字\n",
    "def quicksort(list, left, right):    #定義快速排序法\n",
    "    if left >= right :            \n",
    "        return\n",
    "\n",
    "    i = left                        #設定為左右\n",
    "    j = right                       \n",
    "    key = list[left]               \n",
    "\n",
    "    while i != j:                    \n",
    "        while list[j] > key and i < j:   \n",
    "            \n",
    "            j -= 1\n",
    "            \n",
    "        while list[i] <= key and i < j:  \n",
    "            \n",
    "            i += 1\n",
    "\n",
    "        if i < j:                        \n",
    "            list[i], list[j] = list[j], list[i]\n",
    "    \n",
    "         \n",
    "\n",
    "    \n",
    "    list[left],list[i] = list[i],list[left]\n",
    "    quicksort(list, left, i-1)   \n",
    "    quicksort(list, j+1, right)\n",
    "    \n",
    "print(list)\n",
    "quicksort(list, 0, len(list)-1)\n",
    "print(list)"
   ]
  },
  {
   "cell_type": "code",
   "execution_count": null,
   "metadata": {},
   "outputs": [],
   "source": []
  }
 ],
 "metadata": {
  "kernelspec": {
   "display_name": "Python 3",
   "language": "python",
   "name": "python3"
  },
  "language_info": {
   "codemirror_mode": {
    "name": "ipython",
    "version": 3
   },
   "file_extension": ".py",
   "mimetype": "text/x-python",
   "name": "python",
   "nbconvert_exporter": "python",
   "pygments_lexer": "ipython3",
   "version": "3.7.3"
  }
 },
 "nbformat": 4,
 "nbformat_minor": 2
}
